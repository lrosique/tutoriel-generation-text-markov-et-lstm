{
 "cells": [
  {
   "cell_type": "markdown",
   "metadata": {},
   "source": [
    "# Chaîne de Markov et génération de texte"
   ]
  },
  {
   "cell_type": "markdown",
   "metadata": {},
   "source": [
    "Ce tutoriel présente l'utilisation d'une chaîne de Markov pour générer du texte."
   ]
  },
  {
   "cell_type": "code",
   "execution_count": null,
   "metadata": {},
   "outputs": [],
   "source": [
    "#Imports\n",
    "import re"
   ]
  },
  {
   "cell_type": "code",
   "execution_count": null,
   "metadata": {},
   "outputs": [],
   "source": [
    "#Variables\n",
    "memory = 2"
   ]
  },
  {
   "cell_type": "markdown",
   "metadata": {},
   "source": [
    "## Préparation des données"
   ]
  },
  {
   "cell_type": "markdown",
   "metadata": {},
   "source": [
    "L'objectif étant de générer des mots (et non des caractères, comme on retrouve parfois dans la littérature), on va découper notre texte grâce à une expression régulière pour récupérer tous les mots.\n",
    "On met également le texte en minuscule car les majuscules n'apportent (quasiment) aucune information. On pourrait également enlever les apostrophes ou autres signes de ponctuation pour améliorer le résultat final, et certains mots de liaisons/nombres..."
   ]
  },
  {
   "cell_type": "code",
   "execution_count": null,
   "metadata": {},
   "outputs": [],
   "source": [
    "def most_common(lst):\n",
    "    return max(set(lst), key=lst.count)"
   ]
  },
  {
   "cell_type": "code",
   "execution_count": null,
   "metadata": {},
   "outputs": [],
   "source": [
    "def prepare():\n",
    "    file = open(\"la-machine-a-explorer-le-temps--h-g-wells.txt\", \"r\", encoding=\"utf8\")\n",
    "    text = file.read()\n",
    "    words = re.findall(r\"[\\w]+\", text.lower())\n",
    "    return words"
   ]
  },
  {
   "cell_type": "markdown",
   "metadata": {},
   "source": [
    "## Entraînement de l'algorithme"
   ]
  },
  {
   "cell_type": "markdown",
   "metadata": {},
   "source": [
    "Pour apprendre à prédire des mots, on va regarder quel mot suit tel ou tel groupe de mots (la variable \"memory\" sert à dire combien de mots précédents on regarde).\n",
    "\n",
    "On va ainsi construire, pour chaque groupe de mots précédents (ce sera notre clé), quels sont les mots suivants possibles."
   ]
  },
  {
   "cell_type": "code",
   "execution_count": null,
   "metadata": {},
   "outputs": [],
   "source": [
    "def train(words, memory=2):\n",
    "    last_words = []\n",
    "    dict_markov = {}\n",
    "    for word in words:\n",
    "        #Init first vector\n",
    "        if len(last_words) < memory:\n",
    "            last_words.append(word)\n",
    "        else:\n",
    "            key = tuple(last_words)\n",
    "            #If key in dictionary, save new possible prediction\n",
    "            if key in dict_markov:\n",
    "                dict_markov[key].append(word)\n",
    "            #Else, create a list to store next word predictions\n",
    "            else:\n",
    "                dict_markov[key] = [word]\n",
    "        #Update last_words with the new word\n",
    "        last_words.pop(0)\n",
    "        last_words.append(word)\n",
    "    return dict_markov"
   ]
  },
  {
   "cell_type": "markdown",
   "metadata": {},
   "source": [
    "## Prédiction"
   ]
  },
  {
   "cell_type": "markdown",
   "metadata": {},
   "source": [
    "Enfin, on écrit une fonction capable de prédire les mots suivants en s'appuyant sur notre \"expérience\".\n",
    "\n",
    "Pour une clé, on va prédire le mot suivant puis l'ajouter à la clé et répéter le processus autant de fois que demandé."
   ]
  },
  {
   "cell_type": "code",
   "execution_count": null,
   "metadata": {},
   "outputs": [],
   "source": [
    "def predict(start_sentence, repeat=10, memory=2, dictionary={}):\n",
    "    prediction = start_sentence\n",
    "    last_words = re.findall(r\"[\\w]+\", start_sentence.lower())\n",
    "    if len(last_words) < memory:\n",
    "            raise Exception(\"Not enough words for a prediction\")\n",
    "    else:\n",
    "        last_words = last_words[-memory:]\n",
    "    for i in range(repeat):\n",
    "        key = tuple(last_words)\n",
    "        if key in dictionary:\n",
    "            #Choose prediction\n",
    "            possibilities = dictionary[key]\n",
    "            prediction += \" \"+most_common(possibilities)\n",
    "            #Update last_words with the new word\n",
    "            last_words.pop(0)\n",
    "            last_words.append(most_common(possibilities))\n",
    "    return prediction"
   ]
  },
  {
   "cell_type": "markdown",
   "metadata": {},
   "source": [
    "## Mise en pratique"
   ]
  },
  {
   "cell_type": "markdown",
   "metadata": {},
   "source": [
    "Regardez ce que prédit notre algorithme pour les 9 mots suivant les mots \"l'intelligence artificielle\", avec une mémoire de 2 mots :"
   ]
  },
  {
   "cell_type": "code",
   "execution_count": null,
   "metadata": {},
   "outputs": [],
   "source": [
    "words = prepare()\n",
    "dict_markov = train(words, memory=memory)\n",
    "prediction = predict(\"L'intelligence artificielle\", repeat=9, memory=memory, dictionary=dict_markov)\n",
    "print(prediction)"
   ]
  },
  {
   "cell_type": "code",
   "execution_count": null,
   "metadata": {},
   "outputs": [],
   "source": []
  }
 ],
 "metadata": {
  "kernelspec": {
   "display_name": "Python 3",
   "language": "python",
   "name": "python3"
  },
  "language_info": {
   "codemirror_mode": {
    "name": "ipython",
    "version": 3
   },
   "file_extension": ".py",
   "mimetype": "text/x-python",
   "name": "python",
   "nbconvert_exporter": "python",
   "pygments_lexer": "ipython3",
   "version": "3.6.4"
  }
 },
 "nbformat": 4,
 "nbformat_minor": 2
}
